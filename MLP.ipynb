{
  "nbformat": 4,
  "nbformat_minor": 0,
  "metadata": {
    "colab": {
      "name": "MLP.ipynb",
      "provenance": [],
      "collapsed_sections": []
    },
    "kernelspec": {
      "name": "python3",
      "display_name": "Python 3"
    },
    "accelerator": "GPU"
  },
  "cells": [
    {
      "cell_type": "code",
      "metadata": {
        "id": "mpJtD3SqOORN",
        "colab_type": "code",
        "colab": {
          "base_uri": "https://localhost:8080/",
          "height": 35
        },
        "outputId": "d184ce97-8d13-4107-8acf-0c5975ece890"
      },
      "source": [
        "import numpy\n",
        "from keras.datasets import mnist\n",
        "from keras.models import Sequential\n",
        "from keras.layers import Dense\n",
        "from keras.layers import Dropout\n",
        "from keras.utils import np_utils"
      ],
      "execution_count": 1,
      "outputs": [
        {
          "output_type": "stream",
          "text": [
            "Using TensorFlow backend.\n"
          ],
          "name": "stderr"
        }
      ]
    },
    {
      "cell_type": "code",
      "metadata": {
        "id": "NQcWj36SOTT6",
        "colab_type": "code",
        "colab": {}
      },
      "source": [
        "(X_train, y_train), (X_test, y_test) = mnist.load_data()\n",
        "\n",
        "num_pixels = X_train.shape[1] * X_train.shape[2]\n",
        "X_train = X_train.reshape(X_train.shape[0], num_pixels).astype(\"float32\")\n",
        "X_test = X_test.reshape(X_test.shape[0], num_pixels).astype(\"float32\")\n",
        "\n",
        "X_train = X_train / 255\n",
        "X_test = X_test / 255\n",
        "\n",
        "y_train = np_utils.to_categorical(y_train)\n",
        "y_test = np_utils.to_categorical(y_test)\n",
        "num_classes = y_test.shape[1]\n",
        "\n",
        "def mlp_model():\n",
        "    model = Sequential()\n",
        "    model.add(Dense(num_pixels, input_dim = num_pixels, kernel_initializer = \"normal\", activation = \"relu\"))\n",
        "    model.add(Dense(300, kernel_initializer = \"normal\", activation = \"relu\"))\n",
        "    model.add(Dense(num_classes, kernel_initializer = \"normal\", activation = \"softmax\"))\n",
        "    model.compile(loss = \"categorical_crossentropy\", optimizer = \"adam\", metrics = [\"accuracy\"])\n",
        "    return model\n",
        "\n",
        "model = mlp_model()\n",
        "model.fit(X_train, y_train, validation_data = (X_test, y_test), epochs = 15, batch_size = 200, verbose = 2)\n",
        "scores = model.evaluate(X_test, y_test, verbose = 0)\n",
        "print(\"Baseline Error: %.2f%%\" % (100 - scores[1] * 100))"
      ],
      "execution_count": null,
      "outputs": []
    }
  ]
}